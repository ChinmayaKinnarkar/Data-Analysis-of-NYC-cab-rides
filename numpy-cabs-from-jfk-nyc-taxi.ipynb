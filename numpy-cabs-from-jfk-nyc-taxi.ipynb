{
 "cells": [
  {
   "cell_type": "markdown",
   "metadata": {},
   "source": [
    "# Data Analysis of cab rides to and fro NYC airport\n",
    "\n",
    "This is a basic data analysis project made using Python. The library used is NumPy.\n",
    "\n",
    "Here we have used data set fetched from (https://drive.google.com/file/d/1Zu1xLzjcRKgWJ-B2k1j4BdMVFutkiqic/view). \n",
    "\n",
    "Our data set contains pickup year, month, time, pickup location, drop off location, distance between the locations, time taken and the fares and tips of the rides.\n",
    "\n",
    "Using this data we will answer a few questions like:\n",
    "* Mean speed of our cab rides.\n",
    "* Rides in a particular month\n",
    "* No. of times where drivers were tipped over a certain amount\n",
    "* Months where drivers were tipped this amount\n",
    "* No. of times riders were dropped off to the airport.\n",
    "\n",
    "Use the \"Run\" button to execute the code.\n",
    "\n",
    "<p><img src=https://cdn.vox-cdn.com/thumbor/b3d9ki9vlWdYuGTkx0ojgKA7WcQ=/0x0:640x427/920x613/filters:focal(0x0:640x427):format(webp)/cdn.vox-cdn.com/assets/1335956/taxis_nyc.jpg)></p>"
   ]
  },
  {
   "cell_type": "code",
   "execution_count": 1,
   "metadata": {},
   "outputs": [],
   "source": [
    "!pip install jovian --upgrade --quiet"
   ]
  },
  {
   "cell_type": "code",
   "execution_count": 2,
   "metadata": {},
   "outputs": [],
   "source": [
    "import jovian"
   ]
  },
  {
   "cell_type": "code",
   "execution_count": 3,
   "metadata": {},
   "outputs": [
    {
     "data": {
      "application/javascript": [
       "window.require && require([\"base/js/namespace\"],function(Jupyter){Jupyter.notebook.save_checkpoint()})"
      ],
      "text/plain": [
       "<IPython.core.display.Javascript object>"
      ]
     },
     "metadata": {},
     "output_type": "display_data"
    },
    {
     "name": "stdout",
     "output_type": "stream",
     "text": [
      "[jovian] Updating notebook \"kinnarkarchinmaya/numpy-cabs-from-jfk-nyc-taxi\" on https://jovian.ai\u001b[0m\n",
      "[jovian] Committed successfully! https://jovian.ai/kinnarkarchinmaya/numpy-cabs-from-jfk-nyc-taxi\u001b[0m\n"
     ]
    },
    {
     "data": {
      "text/plain": [
       "'https://jovian.ai/kinnarkarchinmaya/numpy-cabs-from-jfk-nyc-taxi'"
      ]
     },
     "execution_count": 3,
     "metadata": {},
     "output_type": "execute_result"
    }
   ],
   "source": [
    "# Execute this to save new versions of the notebook\n",
    "jovian.commit(project=\"numpy-cabs-from-jfk-nyc-taxi\")"
   ]
  },
  {
   "cell_type": "code",
   "execution_count": 4,
   "metadata": {},
   "outputs": [],
   "source": [
    "import numpy as np"
   ]
  },
  {
   "cell_type": "code",
   "execution_count": 5,
   "metadata": {},
   "outputs": [],
   "source": [
    "taxi = np.genfromtxt('nyc_taxis.csv',delimiter = ',',skip_header=True)"
   ]
  },
  {
   "cell_type": "code",
   "execution_count": 6,
   "metadata": {},
   "outputs": [
    {
     "data": {
      "text/plain": [
       "array([[2.016e+03, 1.000e+00, 1.000e+00, ..., 1.165e+01, 6.999e+01,\n",
       "        1.000e+00],\n",
       "       [2.016e+03, 1.000e+00, 1.000e+00, ..., 8.000e+00, 5.430e+01,\n",
       "        1.000e+00],\n",
       "       [2.016e+03, 1.000e+00, 1.000e+00, ..., 0.000e+00, 3.780e+01,\n",
       "        2.000e+00],\n",
       "       ...,\n",
       "       [2.016e+03, 6.000e+00, 3.000e+01, ..., 5.000e+00, 6.334e+01,\n",
       "        1.000e+00],\n",
       "       [2.016e+03, 6.000e+00, 3.000e+01, ..., 8.950e+00, 4.475e+01,\n",
       "        1.000e+00],\n",
       "       [2.016e+03, 6.000e+00, 3.000e+01, ..., 0.000e+00, 5.484e+01,\n",
       "        2.000e+00]])"
      ]
     },
     "execution_count": 6,
     "metadata": {},
     "output_type": "execute_result"
    }
   ],
   "source": [
    "taxi"
   ]
  },
  {
   "cell_type": "markdown",
   "metadata": {},
   "source": [
    "**Q1: Calculate the mean speed of taxis**\n",
    "\n",
    "Hint: use taxi_length column to calculate time"
   ]
  },
  {
   "cell_type": "code",
   "execution_count": 7,
   "metadata": {},
   "outputs": [],
   "source": [
    "#Speed = distance / time\n",
    "# taxi_distance is in km and taxi_length is in sec\n",
    "speed = taxi[:,7] / (taxi[:,8]/3600)"
   ]
  },
  {
   "cell_type": "code",
   "execution_count": 8,
   "metadata": {},
   "outputs": [
    {
     "data": {
      "text/plain": [
       "32.24258580925573"
      ]
     },
     "execution_count": 8,
     "metadata": {},
     "output_type": "execute_result"
    }
   ],
   "source": [
    "mean_speed = np.mean(speed)\n",
    "mean_speed"
   ]
  },
  {
   "cell_type": "code",
   "execution_count": 9,
   "metadata": {},
   "outputs": [
    {
     "data": {
      "text/plain": [
       "32.24258580925573"
      ]
     },
     "execution_count": 9,
     "metadata": {},
     "output_type": "execute_result"
    }
   ],
   "source": [
    "mean_speed = speed.mean()\n",
    "mean_speed"
   ]
  },
  {
   "cell_type": "markdown",
   "metadata": {},
   "source": [
    "**Q2: Calculate the rides in the month of February**"
   ]
  },
  {
   "cell_type": "code",
   "execution_count": 10,
   "metadata": {},
   "outputs": [],
   "source": [
    "# Using inbuilt numpy function count_nonzero() \n",
    "\n",
    "month = taxi[:,1]\n",
    "feb_rides = np.count_nonzero(month == 2)"
   ]
  },
  {
   "cell_type": "code",
   "execution_count": 11,
   "metadata": {},
   "outputs": [
    {
     "name": "stdout",
     "output_type": "stream",
     "text": [
      "The number of rides in month of February are 13333.\n"
     ]
    }
   ],
   "source": [
    "print(f\"The number of rides in month of February are {feb_rides}.\")"
   ]
  },
  {
   "cell_type": "code",
   "execution_count": 12,
   "metadata": {},
   "outputs": [],
   "source": [
    "# Using indexing and slicing. Here we have sliced the boolean and passed through nd array to get values.\n",
    "# We have also used shape function to find the no.of rides\n",
    "\n",
    "rides_feb = taxi[taxi[:,1]==2,1].shape[0]"
   ]
  },
  {
   "cell_type": "code",
   "execution_count": 13,
   "metadata": {},
   "outputs": [
    {
     "name": "stdout",
     "output_type": "stream",
     "text": [
      "The number of rides in month of February are 13333.\n"
     ]
    }
   ],
   "source": [
    "print(f\"The number of rides in month of February are {rides_feb}.\")"
   ]
  },
  {
   "cell_type": "markdown",
   "metadata": {},
   "source": [
    "**Q3: Calculate number of rides with tip greater than `$50`**"
   ]
  },
  {
   "cell_type": "code",
   "execution_count": 14,
   "metadata": {},
   "outputs": [],
   "source": [
    "tips_over_50=taxi[taxi[:,12] >=50,12].shape[0]"
   ]
  },
  {
   "cell_type": "code",
   "execution_count": 15,
   "metadata": {},
   "outputs": [
    {
     "name": "stdout",
     "output_type": "stream",
     "text": [
      "Number of rides with tips greater than $50 is 20\n"
     ]
    }
   ],
   "source": [
    "print(\"Number of rides with tips greater than $50 is {}\".format(tips_over_50))"
   ]
  },
  {
   "cell_type": "code",
   "execution_count": 16,
   "metadata": {},
   "outputs": [],
   "source": [
    "tips = taxi[taxi[:,12]>50,12].shape[0]"
   ]
  },
  {
   "cell_type": "code",
   "execution_count": 17,
   "metadata": {},
   "outputs": [
    {
     "name": "stdout",
     "output_type": "stream",
     "text": [
      "Correct ans is 16\n"
     ]
    }
   ],
   "source": [
    "print(f\"Correct ans is {tips}\")"
   ]
  },
  {
   "cell_type": "markdown",
   "metadata": {},
   "source": [
    "## Tips difference\n",
    ">The first answer i.e 20 was printed because we used `>=`sign whereas the question asked greater than 50. This means there are **4** rides where tip was exact $50"
   ]
  },
  {
   "cell_type": "markdown",
   "metadata": {},
   "source": [
    "**Q4: Find out the months where tip was greater than $50**"
   ]
  },
  {
   "cell_type": "code",
   "execution_count": 18,
   "metadata": {},
   "outputs": [
    {
     "data": {
      "text/plain": [
       "{1.0: 5, 2.0: 1, 3.0: 3, 4.0: 1, 5.0: 4, 6.0: 6}"
      ]
     },
     "execution_count": 18,
     "metadata": {},
     "output_type": "execute_result"
    }
   ],
   "source": [
    "months,counts=np.unique(taxi[taxi[:,12]>=50,1],return_counts=True)\n",
    "dict(zip(months,counts))"
   ]
  },
  {
   "cell_type": "markdown",
   "metadata": {},
   "source": [
    "**Q5: Calculate the number of rides where drop off location is JFK**\n",
    "\n",
    "`Hint` : Drop off code for JFK is 2"
   ]
  },
  {
   "cell_type": "code",
   "execution_count": 19,
   "metadata": {},
   "outputs": [],
   "source": [
    "jfk_drop = taxi[taxi[:,6] == 2,6].shape[0]"
   ]
  },
  {
   "cell_type": "code",
   "execution_count": 20,
   "metadata": {},
   "outputs": [
    {
     "name": "stdout",
     "output_type": "stream",
     "text": [
      "The number of rides droped off to JFK were 11832.\n"
     ]
    }
   ],
   "source": [
    "print(f\"The number of rides droped off to JFK were {jfk_drop}.\")"
   ]
  },
  {
   "cell_type": "markdown",
   "metadata": {},
   "source": [
    "## *Where to go from here?*\n",
    "\n",
    "We can extend this project by finding:\n",
    " \n",
    "* Busiest month for cab drivers\n",
    "* Most tipped routes\n",
    "* Least tipped routes\n",
    "* Longest time taken in a ride\n",
    "* Shortest time taken to reach the destination\n",
    "\n",
    "We can also show a visual representation of the findings through libraries like matplotlib and seaborn\n",
    "Once done with this dataset, we can also extend this to any other city in USA or any part of the world.\n",
    "\n",
    "#### Hope you enjoyed this project!"
   ]
  },
  {
   "cell_type": "markdown",
   "metadata": {},
   "source": [
    "# *Thank You*\n",
    "\n",
    " -[Chinmaya Kinnarkar](https://in.linkedin.com/in/chinmaya-kinnarkar-ab0620ba)\n",
    "  \n",
    "  [Github](https://github.com/ChinmayaKinnarkar)"
   ]
  },
  {
   "cell_type": "code",
   "execution_count": 21,
   "metadata": {},
   "outputs": [
    {
     "data": {
      "application/javascript": [
       "window.require && require([\"base/js/namespace\"],function(Jupyter){Jupyter.notebook.save_checkpoint()})"
      ],
      "text/plain": [
       "<IPython.core.display.Javascript object>"
      ]
     },
     "metadata": {},
     "output_type": "display_data"
    },
    {
     "name": "stdout",
     "output_type": "stream",
     "text": [
      "[jovian] Updating notebook \"kinnarkarchinmaya/numpy-cabs-from-jfk-nyc-taxi\" on https://jovian.ai\u001b[0m\n",
      "[jovian] Committed successfully! https://jovian.ai/kinnarkarchinmaya/numpy-cabs-from-jfk-nyc-taxi\u001b[0m\n"
     ]
    },
    {
     "data": {
      "text/plain": [
       "'https://jovian.ai/kinnarkarchinmaya/numpy-cabs-from-jfk-nyc-taxi'"
      ]
     },
     "execution_count": 21,
     "metadata": {},
     "output_type": "execute_result"
    }
   ],
   "source": [
    "jovian.commit(project=\"numpy-cabs-from-jfk-nyc-taxi\")"
   ]
  },
  {
   "cell_type": "code",
   "execution_count": null,
   "metadata": {},
   "outputs": [],
   "source": []
  }
 ],
 "metadata": {
  "kernelspec": {
   "display_name": "Python 3 (ipykernel)",
   "language": "python",
   "name": "python3"
  },
  "language_info": {
   "codemirror_mode": {
    "name": "ipython",
    "version": 3
   },
   "file_extension": ".py",
   "mimetype": "text/x-python",
   "name": "python",
   "nbconvert_exporter": "python",
   "pygments_lexer": "ipython3",
   "version": "3.9.6"
  }
 },
 "nbformat": 4,
 "nbformat_minor": 2
}
